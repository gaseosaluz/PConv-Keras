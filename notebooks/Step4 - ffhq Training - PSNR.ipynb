{
 "cells": [
  {
   "cell_type": "markdown",
   "metadata": {},
   "source": [
    "# Training on the Flicker HD Faces Dataset\n",
    "\n",
    "This notebook is used to compute the PSNR of the predicted images. At this point it contains a lot of duplicate code. \n",
    "\n",
    "# NOT WORKING UNTIL I REMOVE THIS NOTICE\n",
    "\n",
    "## Notes\n",
    "\n",
    "* Notes from Step4 notebook apply. However most of the notes here will be removed as this notebook will simply load the pre-trained model and run the PSNR computations. This *TBD*\n",
    "\n",
    "* There is a problem with the section that computes the PSNR. It will not work beyond 25% of the images. The reason appears to have been a change with `numpy`. the version that I am using here does not tolerate a mismatch of the sizes of the mask arran and its boolean index. I will likely have to rewrite the codel.  Until I sort this out, this PSNR is only computed for the first 1749 images. The program fails after that. \n"
   ]
  },
  {
   "cell_type": "markdown",
   "metadata": {},
   "source": [
    "## TO DO"
   ]
  },
  {
   "cell_type": "markdown",
   "metadata": {},
   "source": [
    "* Clean out non-PSNR calculation code\n",
    "\n",
    "* Fix boolean indexing error in PSNR calculation."
   ]
  },
  {
   "cell_type": "code",
   "execution_count": 1,
   "metadata": {},
   "outputs": [
    {
     "name": "stderr",
     "output_type": "stream",
     "text": [
      "Using TensorFlow backend.\n"
     ]
    }
   ],
   "source": [
    "import os\n",
    "import gc\n",
    "import datetime\n",
    "import numpy as np\n",
    "import pandas as pd\n",
    "import cv2\n",
    "\n",
    "from copy import deepcopy\n",
    "from tqdm import tqdm\n",
    "\n",
    "from keras.preprocessing.image import ImageDataGenerator\n",
    "from keras.callbacks import TensorBoard, ModelCheckpoint, LambdaCallback\n",
    "from keras import backend as K\n",
    "from keras.utils import Sequence\n",
    "from keras_tqdm import TQDMNotebookCallback\n",
    "\n",
    "import matplotlib.pyplot as plt\n",
    "from matplotlib.ticker import NullFormatter\n",
    "from IPython.display import clear_output\n",
    "\n",
    "# Change to the project root path\n",
    "if os.path.basename(os.getcwd()) != 'PConv-Keras':\n",
    "    os.chdir('..')\n",
    "    \n",
    "from libs.pconv_model import PConvUnet\n",
    "from libs.util import MaskGenerator"
   ]
  },
  {
   "cell_type": "code",
   "execution_count": 2,
   "metadata": {},
   "outputs": [],
   "source": [
    "%load_ext autoreload\n",
    "%autoreload 2\n",
    "plt.ioff()"
   ]
  },
  {
   "cell_type": "markdown",
   "metadata": {},
   "source": [
    "# Dataset"
   ]
  },
  {
   "cell_type": "code",
   "execution_count": 5,
   "metadata": {},
   "outputs": [],
   "source": [
    "VAL_DIR = r\"/home/edm/work/mldata/ffhq//\"\n",
    "\n",
    "BATCH_SIZE = 4"
   ]
  },
  {
   "cell_type": "markdown",
   "metadata": {},
   "source": [
    "# Performance Evaluation\n",
    "To evaluate the performance of the network, in this notebook I'll try loading the test masks used in the original paper, and see which PSNR scores we get on imagenet.\n",
    "\n",
    "Note that the 'masks' dataset from the original paper is not in the repo. It has to be downloaded separately. The project page http://masc.cs.gmu.edu/wiki/partialconv gives a ilnk for the test mask datasets:  http://masc.cs.gmu.edu/wiki/uploads/partialconv/mask.zip\n",
    "\n",
    "**NOTES** \n",
    "\n",
    "* Calculating the PSNR is compute intensive. The following took almost 2 hours an used 10 cores.\n",
    "\n",
    "* There is some code duplication below becau I intend to extract the section below to its own notebook."
   ]
  },
  {
   "cell_type": "code",
   "execution_count": 6,
   "metadata": {},
   "outputs": [
    {
     "name": "stdout",
     "output_type": "stream",
     "text": [
      "WARNING:tensorflow:From /home/edm/miniconda3/envs/ml3tfg/lib/python3.7/site-packages/tensorflow/python/framework/op_def_library.py:263: colocate_with (from tensorflow.python.framework.ops) is deprecated and will be removed in a future version.\n",
      "Instructions for updating:\n",
      "Colocations handled automatically by placer.\n"
     ]
    }
   ],
   "source": [
    "# Load weights from previous run\n",
    "model = PConvUnet()\n",
    "model.load(\n",
    "    #r\"C:\\Users\\Mathias Felix Gruber\\Documents\\GitHub\\PConv-Keras\\data\\logs\\imagenet_phase2\\weights.26-1.07.h5\",\n",
    "    #\"/home/edm/work/dev/PConv-Keras/data/logs/imagenet_phase1_paperMasksweights.04-8.92.h5\",\n",
    "    #r\"/home/edm/work/dev/PConv-Keras/data/logs/imagenet_phase1_paperMasksweights.43-4.33.h5\",\n",
    "    r\"/home/edm/work/dev/PConv-Keras/data/logs/ffhq_phase2/weights.36-0.56.h5\",\n",
    "    train_bn=False,\n",
    "    lr=0.00005\n",
    ")"
   ]
  },
  {
   "cell_type": "code",
   "execution_count": 7,
   "metadata": {},
   "outputs": [],
   "source": [
    "## Create Validation Generator\n",
    "\n",
    "class AugmentingDataGenerator2(ImageDataGenerator):\n",
    "    def flow_from_directory(self, directory, mask_generator, *args, **kwargs):\n",
    "        generator = super().flow_from_directory(directory, class_mode=None, *args, **kwargs)        \n",
    "        seed = None if 'seed' not in kwargs else kwargs['seed']\n",
    "        while True:\n",
    "            \n",
    "            # Get augmentend image samples\n",
    "            ori = next(generator)\n",
    "\n",
    "            # Get masks for each image sample            \n",
    "            mask = np.stack([\n",
    "                mask_generator.sample(seed)\n",
    "                for _ in range(ori.shape[0])], axis=0\n",
    "            )\n",
    "\n",
    "            # Apply masks to all image sample\n",
    "            masked = deepcopy(ori)\n",
    "            masked[mask==0] = 1\n",
    "\n",
    "            # Yield ([ori, masl],  ori) training batches\n",
    "            # print(masked.shape, ori.shape)\n",
    "            gc.collect()\n",
    "            yield [masked, mask], ori\n",
    "\n",
    "val_datagen2 = AugmentingDataGenerator2(rescale=1./255)\n",
    "val_generator2 = val_datagen2.flow_from_directory(\n",
    "    VAL_DIR, \n",
    "    MaskGenerator(512, 512, 3), \n",
    "    target_size=(512, 512), \n",
    "    batch_size=BATCH_SIZE, \n",
    "    classes=['val'], \n",
    "    seed=42\n",
    ")"
   ]
  },
  {
   "cell_type": "code",
   "execution_count": 11,
   "metadata": {},
   "outputs": [
    {
     "name": "stderr",
     "output_type": "stream",
     "text": [
      "100%|██████████| 6999/6999 [41:58<00:00,  2.82it/s]\n"
     ]
    }
   ],
   "source": [
    "# Store data\n",
    "ratios = []\n",
    "psnrs = []\n",
    "\n",
    "# Loop through test masks released with paper (from link above)\n",
    "test_masks = os.listdir(r'data/masks/testing_mask_dataset')\n",
    "# Limit number ot maks to be equal to size of val dataset (6999 Images)\n",
    "test_masks = test_masks[:6999]\n",
    "\n",
    "\n",
    "for filename in tqdm(test_masks):\n",
    "    \n",
    "    # Load mask from paper\n",
    "    filepath = os.path.join(r'data/masks/testing_mask_dataset', filename)\n",
    "    mask = cv2.imread(filepath) / 255\n",
    "    ratios.append(mask[:,:,0].sum() / (512 * 512))\n",
    "    #ratios.append(mask[:,:,0].sum() / (1024* 1024))\n",
    "    mask = np.array([1-mask for _ in range(BATCH_SIZE)])\n",
    "    \n",
    "    # Pick out image from test generator\n",
    "    test_data = next(val_generator2)\n",
    "    (_, _), ori = test_data\n",
    "    \n",
    "    masked = deepcopy(ori)\n",
    "  \n",
    "    #masked[mask==0] = 1  # original code\n",
    "    #np.where(a < 4, a, -1)  # -1 is broadcast\n",
    "    masked = np.where(mask==0, 1,0)\n",
    "    masked = np.where(mask==0, 1, masked)\n",
    "    \n",
    "    # Run prediction on image & mask\n",
    "    pred = model.predict([ori, mask])\n",
    "    \n",
    "    # Calculate PSNR\n",
    "    psnrs.append(-10.0 * np.log10(np.mean(np.square(pred - ori))))\n",
    "    #pbar.update(1)\n",
    "    #spbar.set_description(\"Processing %s\" % file, refresh = True)"
   ]
  },
  {
   "cell_type": "code",
   "execution_count": null,
   "metadata": {},
   "outputs": [],
   "source": []
  },
  {
   "cell_type": "code",
   "execution_count": 9,
   "metadata": {},
   "outputs": [
    {
     "data": {
      "text/plain": [
       "6999"
      ]
     },
     "execution_count": 9,
     "metadata": {},
     "output_type": "execute_result"
    }
   ],
   "source": [
    "len(psnrs)"
   ]
  },
  {
   "cell_type": "code",
   "execution_count": 12,
   "metadata": {},
   "outputs": [
    {
     "data": {
      "text/html": [
       "<div>\n",
       "<style scoped>\n",
       "    .dataframe tbody tr th:only-of-type {\n",
       "        vertical-align: middle;\n",
       "    }\n",
       "\n",
       "    .dataframe tbody tr th {\n",
       "        vertical-align: top;\n",
       "    }\n",
       "\n",
       "    .dataframe thead th {\n",
       "        text-align: right;\n",
       "    }\n",
       "</style>\n",
       "<table border=\"1\" class=\"dataframe\">\n",
       "  <thead>\n",
       "    <tr style=\"text-align: right;\">\n",
       "      <th></th>\n",
       "      <th>ratios</th>\n",
       "      <th>psnrs</th>\n",
       "    </tr>\n",
       "  </thead>\n",
       "  <tbody>\n",
       "    <tr>\n",
       "      <th>0.01-0.1</th>\n",
       "      <td>0.058166</td>\n",
       "      <td>31.202827</td>\n",
       "    </tr>\n",
       "    <tr>\n",
       "      <th>0.1-0.2</th>\n",
       "      <td>0.145236</td>\n",
       "      <td>28.529028</td>\n",
       "    </tr>\n",
       "    <tr>\n",
       "      <th>0.2-0.3</th>\n",
       "      <td>0.246844</td>\n",
       "      <td>26.045333</td>\n",
       "    </tr>\n",
       "    <tr>\n",
       "      <th>0.3-0.4</th>\n",
       "      <td>0.341071</td>\n",
       "      <td>23.954500</td>\n",
       "    </tr>\n",
       "    <tr>\n",
       "      <th>0.4-0.5</th>\n",
       "      <td>0.438136</td>\n",
       "      <td>22.033820</td>\n",
       "    </tr>\n",
       "    <tr>\n",
       "      <th>0.5-0.6</th>\n",
       "      <td>0.541535</td>\n",
       "      <td>17.342973</td>\n",
       "    </tr>\n",
       "  </tbody>\n",
       "</table>\n",
       "</div>"
      ],
      "text/plain": [
       "            ratios      psnrs\n",
       "0.01-0.1  0.058166  31.202827\n",
       "0.1-0.2   0.145236  28.529028\n",
       "0.2-0.3   0.246844  26.045333\n",
       "0.3-0.4   0.341071  23.954500\n",
       "0.4-0.5   0.438136  22.033820\n",
       "0.5-0.6   0.541535  17.342973"
      ]
     },
     "execution_count": 12,
     "metadata": {},
     "output_type": "execute_result"
    }
   ],
   "source": [
    "# The cell above has a problem and does not finish its computations\n",
    "# I changed the code below so that it can work with the data that ti\n",
    "# colected before it . Instead of hardwiring it just measures the size of \n",
    "# the array and it uses that to create the pandas dataframe.\n",
    "#df = pd.DataFrame({'ratios': ratios[:2408], 'psnrs': psnrs})\n",
    "df = pd.DataFrame({'ratios': ratios[:len(psnrs)], 'psnrs': psnrs})\n",
    "\n",
    "means, stds = [], []\n",
    "idx1 = [0.01, 0.1, 0.2, 0.3, 0.4, 0.5]\n",
    "idx2 = [0.1, 0.2, 0.3, 0.4, 0.5, 0.6]\n",
    "\n",
    "for mi, ma in zip(idx1, idx2):\n",
    "    means.append(df[(df.ratios >= mi) & (df.ratios <= ma)].mean())\n",
    "    stds.append(df[(df.ratios >= mi) & (df.ratios <= ma)].std())\n",
    "    \n",
    "pd.DataFrame(means, index=['{}-{}'.format(a, b) for a, b in zip(idx1, idx2)])"
   ]
  },
  {
   "cell_type": "code",
   "execution_count": 10,
   "metadata": {},
   "outputs": [
    {
     "data": {
      "text/html": [
       "<div>\n",
       "<style scoped>\n",
       "    .dataframe tbody tr th:only-of-type {\n",
       "        vertical-align: middle;\n",
       "    }\n",
       "\n",
       "    .dataframe tbody tr th {\n",
       "        vertical-align: top;\n",
       "    }\n",
       "\n",
       "    .dataframe thead th {\n",
       "        text-align: right;\n",
       "    }\n",
       "</style>\n",
       "<table border=\"1\" class=\"dataframe\">\n",
       "  <thead>\n",
       "    <tr style=\"text-align: right;\">\n",
       "      <th></th>\n",
       "      <th>ratios</th>\n",
       "      <th>psnrs</th>\n",
       "    </tr>\n",
       "  </thead>\n",
       "  <tbody>\n",
       "    <tr>\n",
       "      <th>0.01-0.1</th>\n",
       "      <td>0.058166</td>\n",
       "      <td>31.183182</td>\n",
       "    </tr>\n",
       "    <tr>\n",
       "      <th>0.1-0.2</th>\n",
       "      <td>0.145236</td>\n",
       "      <td>28.532214</td>\n",
       "    </tr>\n",
       "    <tr>\n",
       "      <th>0.2-0.3</th>\n",
       "      <td>0.246844</td>\n",
       "      <td>26.061248</td>\n",
       "    </tr>\n",
       "    <tr>\n",
       "      <th>0.3-0.4</th>\n",
       "      <td>0.341071</td>\n",
       "      <td>23.983323</td>\n",
       "    </tr>\n",
       "    <tr>\n",
       "      <th>0.4-0.5</th>\n",
       "      <td>0.438136</td>\n",
       "      <td>21.968208</td>\n",
       "    </tr>\n",
       "    <tr>\n",
       "      <th>0.5-0.6</th>\n",
       "      <td>0.541535</td>\n",
       "      <td>17.309921</td>\n",
       "    </tr>\n",
       "  </tbody>\n",
       "</table>\n",
       "</div>"
      ],
      "text/plain": [
       "            ratios      psnrs\n",
       "0.01-0.1  0.058166  31.183182\n",
       "0.1-0.2   0.145236  28.532214\n",
       "0.2-0.3   0.246844  26.061248\n",
       "0.3-0.4   0.341071  23.983323\n",
       "0.4-0.5   0.438136  21.968208\n",
       "0.5-0.6   0.541535  17.309921"
      ]
     },
     "execution_count": 10,
     "metadata": {},
     "output_type": "execute_result"
    }
   ],
   "source": [
    "# The cell above has a problem and does not finish its computations\n",
    "# I changed the code below so that it can work with the data that ti\n",
    "# colected before it . Instead of hardwiring it just measures the size of \n",
    "# the array and it uses that to create the pandas dataframe.\n",
    "#df = pd.DataFrame({'ratios': ratios[:2408], 'psnrs': psnrs})\n",
    "df = pd.DataFrame({'ratios': ratios[:len(psnrs)], 'psnrs': psnrs})\n",
    "\n",
    "means, stds = [], []\n",
    "idx1 = [0.01, 0.1, 0.2, 0.3, 0.4, 0.5]\n",
    "idx2 = [0.1, 0.2, 0.3, 0.4, 0.5, 0.6]\n",
    "\n",
    "for mi, ma in zip(idx1, idx2):\n",
    "    means.append(df[(df.ratios >= mi) & (df.ratios <= ma)].mean())\n",
    "    stds.append(df[(df.ratios >= mi) & (df.ratios <= ma)].std())\n",
    "    \n",
    "pd.DataFrame(means, index=['{}-{}'.format(a, b) for a, b in zip(idx1, idx2)])"
   ]
  },
  {
   "cell_type": "code",
   "execution_count": null,
   "metadata": {},
   "outputs": [],
   "source": []
  }
 ],
 "metadata": {
  "kernelspec": {
   "display_name": "Python 3",
   "language": "python",
   "name": "python3"
  },
  "language_info": {
   "codemirror_mode": {
    "name": "ipython",
    "version": 3
   },
   "file_extension": ".py",
   "mimetype": "text/x-python",
   "name": "python",
   "nbconvert_exporter": "python",
   "pygments_lexer": "ipython3",
   "version": "3.7.3"
  }
 },
 "nbformat": 4,
 "nbformat_minor": 2
}
